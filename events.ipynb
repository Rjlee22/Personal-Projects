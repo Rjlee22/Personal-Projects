{
  "nbformat": 4,
  "nbformat_minor": 0,
  "metadata": {
    "colab": {
      "provenance": [],
      "authorship_tag": "ABX9TyP7O4HIPjNouZRxe75chu/x",
      "include_colab_link": true
    },
    "kernelspec": {
      "name": "python3",
      "display_name": "Python 3"
    },
    "language_info": {
      "name": "python"
    }
  },
  "cells": [
    {
      "cell_type": "markdown",
      "metadata": {
        "id": "view-in-github",
        "colab_type": "text"
      },
      "source": [
        "<a href=\"https://colab.research.google.com/github/Rjlee22/Personal-Projects/blob/main/events.ipynb\" target=\"_parent\"><img src=\"https://colab.research.google.com/assets/colab-badge.svg\" alt=\"Open In Colab\"/></a>"
      ]
    },
    {
      "cell_type": "code",
      "source": [
        "from google.colab import drive\n",
        "drive.mount('/content/drive')"
      ],
      "metadata": {
        "colab": {
          "base_uri": "https://localhost:8080/"
        },
        "id": "EKt8cxugg6mK",
        "outputId": "ca75efbb-2cdd-45e8-d2c0-fc18ddc6ad69"
      },
      "execution_count": null,
      "outputs": [
        {
          "output_type": "stream",
          "name": "stdout",
          "text": [
            "Mounted at /content/drive\n"
          ]
        }
      ]
    },
    {
      "cell_type": "code",
      "execution_count": null,
      "metadata": {
        "id": "HaizqwTpe9_l"
      },
      "outputs": [],
      "source": [
        "import requests\n",
        "import bs4\n",
        "import csv\n",
        "import os\n",
        "from datetime import datetime\n",
        "import pandas as pd\n",
        "\n",
        "#Creates a directory for scraped files if it doesn't already exist\n",
        "\n",
        "#Define paths for url folder and scraped files folder\n",
        "file_path = '/content/drive/My Drive/UFC'\n",
        "fight_stat_file = 'ufc_event_data.csv'\n",
        "\n",
        "#Creates csv file for scraped data\n",
        "def create_csv_file():\n",
        "    event_data_file_path = '/content/drive/My Drive/UFC/ufc_event_data.csv'\n",
        "    if not os.path.exists(event_data_file_path):\n",
        "        with open(event_data_file_path, 'w', newline=\"\", encoding='UTF8') as ufc_event_data:\n",
        "            writer = csv.writer(ufc_event_data)\n",
        "            writer.writerow(['event_name',\n",
        "                             'event_date',\n",
        "                             'event_city',\n",
        "                             'event_state',\n",
        "                             'event_country',\n",
        "                             'event_url'])\n",
        "        print('New File Created - ufc_event_data.csv')\n",
        "    else:\n",
        "        print('Scraping to Existing File - ufc_event_data.csv')\n",
        "\n",
        "#Ensure each url is only scraped once when script is run multiple times\n",
        "'''def filter_duplicate_urls(event_urls):\n",
        "    if 'ufc_event_data.csv' in os.listdir(file_path):\n",
        "        with open(file_path + '/' + 'ufc_event_data.csv','r') as csv_file:\n",
        "            reader = csv.DictReader(csv_file)\n",
        "\n",
        "            #List of previously scraped urls:\n",
        "\n",
        "            scraped_event_urls = [row['event_url'] for row in reader]\n",
        "            #Removes scraped urls from event_urls\n",
        "            for url in scraped_event_urls:\n",
        "                if url in event_urls:\n",
        "                    event_urls.remove(url)'''\n",
        "\n",
        "#Scrapes details of each UFC event appends to CSV file 'ufc_event_data'\n",
        "def scrape_events():\n",
        "    event_data_file_path = '/content/drive/My Drive/UFC/ufc_event_data.csv'\n",
        "    event_urls_df = pd.read_csv('/content/drive/My Drive/UFC/event_urls.csv')\n",
        "    event_urls = event_urls_df['Event URL'].tolist()\n",
        "\n",
        "    #Removes urls that have been scraped already\n",
        "    #filter_duplicate_urls(event_urls)\n",
        "\n",
        "    urls_to_scrape = len(event_urls)\n",
        "\n",
        "\n",
        "    if urls_to_scrape == 0:\n",
        "        print('Event data already scraped')\n",
        "\n",
        "    else:\n",
        "        create_csv_file()\n",
        "\n",
        "        print(f'Scraping {urls_to_scrape} event URLs...')\n",
        "        urls_scraped = 0\n",
        "\n",
        "        with open(event_data_file_path, 'a+', newline='', encoding='UTF8') as csvfile:\n",
        "            writer = csv.writer(csvfile)\n",
        "\n",
        "            #Iterates through each event url to scrape key details\n",
        "            for event in event_urls:\n",
        "                event_request = requests.get(event)\n",
        "                event_soup = bs4.BeautifulSoup(event_request.text,'lxml')\n",
        "                event_full_location = event_soup.select('li')[4].text.split(':')[1].strip().split(',')\n",
        "\n",
        "                try:\n",
        "                    event_name = event_soup.select('h2')[0].text\n",
        "                    event_date = str(datetime.strptime(event_soup.select('li')[3].text.split(':')[-1].strip(), '%B %d, %Y'))\n",
        "                    event_city = event_full_location[0]\n",
        "                    event_country = event_full_location[-1]\n",
        "\n",
        "                    #Check event location contains state details\n",
        "                    if len(event_full_location)>2:\n",
        "                        event_state = event_full_location[1]\n",
        "                    else:\n",
        "                        event_state = 'NULL'\n",
        "                    urls_scraped += 1\n",
        "\n",
        "                except IndexError as e:\n",
        "                    print(f\"Error scraping event page: {event}\")\n",
        "                    print(f\"Error details: {e}\")\n",
        "\n",
        "\n",
        "                #Adds new row to csv file\n",
        "                writer.writerow([event_name.strip(),\n",
        "                                 event_date[0:10],\n",
        "                                 event_city.strip(),\n",
        "                                 event_state.strip(),\n",
        "                                 event_country.strip(),\n",
        "                                 event])\n",
        "\n",
        "            print(f'{urls_scraped}/{urls_to_scrape} events successfully scraped')\n"
      ]
    },
    {
      "cell_type": "code",
      "source": [
        "scrape_events()"
      ],
      "metadata": {
        "colab": {
          "base_uri": "https://localhost:8080/"
        },
        "id": "I2igFFdIhEkM",
        "outputId": "714c8a6a-2849-436c-e5b9-f10aa3d85ac4"
      },
      "execution_count": null,
      "outputs": [
        {
          "output_type": "stream",
          "name": "stdout",
          "text": [
            "New File Created - ufc_event_data.csv\n",
            "Scraping 707 event URLs...\n",
            "707/707 events successfully scraped\n"
          ]
        }
      ]
    },
    {
      "cell_type": "code",
      "source": [],
      "metadata": {
        "id": "XDY0BgSBhGvT"
      },
      "execution_count": null,
      "outputs": []
    }
  ]
}